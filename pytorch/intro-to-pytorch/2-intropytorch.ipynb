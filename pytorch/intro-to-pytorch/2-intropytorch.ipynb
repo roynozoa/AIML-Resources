{
 "cells": [
  {
   "cell_type": "markdown",
   "source": [
    "# Classifying Fashion-MNIST"
   ],
   "metadata": {}
  },
  {
   "cell_type": "code",
   "execution_count": 1,
   "source": [
    "import torch\r\n",
    "from torchvision import datasets, transforms\r\n",
    "import helper\r\n",
    "\r\n",
    "# Define a transform to normalize the data\r\n",
    "transform = transforms.Compose([transforms.ToTensor(),\r\n",
    "                                transforms.Normalize((0.5,), (0.5,))])\r\n",
    "# Download and load the training data\r\n",
    "trainset = datasets.FashionMNIST('~/.pytorch/F_MNIST_data/', download=True, train=True, transform=transform)\r\n",
    "trainloader = torch.utils.data.DataLoader(trainset, batch_size=64, shuffle=True)\r\n",
    "\r\n",
    "# Download and load the test data\r\n",
    "testset = datasets.FashionMNIST('~/.pytorch/F_MNIST_data/', download=True, train=False, transform=transform)\r\n",
    "testloader = torch.utils.data.DataLoader(testset, batch_size=64, shuffle=True)"
   ],
   "outputs": [
    {
     "output_type": "stream",
     "name": "stdout",
     "text": [
      "Downloading http://fashion-mnist.s3-website.eu-central-1.amazonaws.com/train-images-idx3-ubyte.gz\n",
      "Downloading http://fashion-mnist.s3-website.eu-central-1.amazonaws.com/train-images-idx3-ubyte.gz to C:\\Users\\Roy/.pytorch/F_MNIST_data/FashionMNIST\\raw\\train-images-idx3-ubyte.gz\n"
     ]
    },
    {
     "output_type": "stream",
     "name": "stderr",
     "text": [
      "26422272it [01:29, 295265.41it/s]                              \n"
     ]
    },
    {
     "output_type": "stream",
     "name": "stdout",
     "text": [
      "Extracting C:\\Users\\Roy/.pytorch/F_MNIST_data/FashionMNIST\\raw\\train-images-idx3-ubyte.gz to C:\\Users\\Roy/.pytorch/F_MNIST_data/FashionMNIST\\raw\n",
      "\n",
      "Downloading http://fashion-mnist.s3-website.eu-central-1.amazonaws.com/train-labels-idx1-ubyte.gz\n",
      "Downloading http://fashion-mnist.s3-website.eu-central-1.amazonaws.com/train-labels-idx1-ubyte.gz to C:\\Users\\Roy/.pytorch/F_MNIST_data/FashionMNIST\\raw\\train-labels-idx1-ubyte.gz\n"
     ]
    },
    {
     "output_type": "stream",
     "name": "stderr",
     "text": [
      "29696it [00:00, 155538.78it/s]                          \n"
     ]
    },
    {
     "output_type": "stream",
     "name": "stdout",
     "text": [
      "Extracting C:\\Users\\Roy/.pytorch/F_MNIST_data/FashionMNIST\\raw\\train-labels-idx1-ubyte.gz to C:\\Users\\Roy/.pytorch/F_MNIST_data/FashionMNIST\\raw\n",
      "\n",
      "Downloading http://fashion-mnist.s3-website.eu-central-1.amazonaws.com/t10k-images-idx3-ubyte.gz\n",
      "Downloading http://fashion-mnist.s3-website.eu-central-1.amazonaws.com/t10k-images-idx3-ubyte.gz to C:\\Users\\Roy/.pytorch/F_MNIST_data/FashionMNIST\\raw\\t10k-images-idx3-ubyte.gz\n"
     ]
    },
    {
     "output_type": "stream",
     "name": "stderr",
     "text": [
      "4422656it [00:13, 331504.14it/s]                             \n"
     ]
    },
    {
     "output_type": "stream",
     "name": "stdout",
     "text": [
      "Extracting C:\\Users\\Roy/.pytorch/F_MNIST_data/FashionMNIST\\raw\\t10k-images-idx3-ubyte.gz to C:\\Users\\Roy/.pytorch/F_MNIST_data/FashionMNIST\\raw\n",
      "\n",
      "Downloading http://fashion-mnist.s3-website.eu-central-1.amazonaws.com/t10k-labels-idx1-ubyte.gz\n",
      "Downloading http://fashion-mnist.s3-website.eu-central-1.amazonaws.com/t10k-labels-idx1-ubyte.gz to C:\\Users\\Roy/.pytorch/F_MNIST_data/FashionMNIST\\raw\\t10k-labels-idx1-ubyte.gz\n"
     ]
    },
    {
     "output_type": "stream",
     "name": "stderr",
     "text": [
      "6144it [00:00, ?it/s]                   \n",
      "C:\\Users\\Roy\\AppData\\Local\\Programs\\Python\\Python38\\lib\\site-packages\\torchvision\\datasets\\mnist.py:502: UserWarning: The given NumPy array is not writeable, and PyTorch does not support non-writeable tensors. This means you can write to the underlying (supposedly non-writeable) NumPy array using the tensor. You may want to copy the array to protect its data or make it writeable before converting it to a tensor. This type of warning will be suppressed for the rest of this program. (Triggered internally at  ..\\torch\\csrc\\utils\\tensor_numpy.cpp:143.)\n",
      "  return torch.from_numpy(parsed.astype(m[2], copy=False)).view(*s)\n"
     ]
    },
    {
     "output_type": "stream",
     "name": "stdout",
     "text": [
      "Extracting C:\\Users\\Roy/.pytorch/F_MNIST_data/FashionMNIST\\raw\\t10k-labels-idx1-ubyte.gz to C:\\Users\\Roy/.pytorch/F_MNIST_data/FashionMNIST\\raw\n",
      "\n",
      "Processing...\n",
      "Done!\n"
     ]
    }
   ],
   "metadata": {}
  },
  {
   "cell_type": "code",
   "execution_count": 2,
   "source": [
    "image, label = next(iter(trainloader))\r\n",
    "helper.imshow(image[0,:]);"
   ],
   "outputs": [
    {
     "output_type": "display_data",
     "data": {
      "text/plain": [
       "<Figure size 432x288 with 1 Axes>"
      ],
      "image/png": "[encoded data removed]"
     },
     "metadata": {
      "needs_background": "light"
     }
    }
   ],
   "metadata": {}
  },
  {
   "cell_type": "markdown",
   "source": [
    "## Building the network"
   ],
   "metadata": {}
  },
  {
   "cell_type": "code",
   "execution_count": 3,
   "source": [
    "from torch import nn, optim\r\n",
    "import torch.nn.functional as F"
   ],
   "outputs": [],
   "metadata": {}
  },
  {
   "cell_type": "code",
   "execution_count": 4,
   "source": [
    "class Classifier(nn.Module):\r\n",
    "    def __init__(self):\r\n",
    "        super().__init__()\r\n",
    "        self.fc1 = nn.Linear(784, 256)\r\n",
    "        self.fc2 = nn.Linear(256, 128)\r\n",
    "        self.fc3 = nn.Linear(128, 64)\r\n",
    "        self.fc4 = nn.Linear(64, 10)\r\n",
    "        \r\n",
    "    def forward(self, x):\r\n",
    "        # make sure input tensor is flattened\r\n",
    "        x = x.view(x.shape[0], -1)\r\n",
    "        \r\n",
    "        x = F.relu(self.fc1(x))\r\n",
    "        x = F.relu(self.fc2(x))\r\n",
    "        x = F.relu(self.fc3(x))\r\n",
    "        x = F.log_softmax(self.fc4(x), dim=1)\r\n",
    "        \r\n",
    "        return x"
   ],
   "outputs": [],
   "metadata": {}
  },
  {
   "cell_type": "markdown",
   "source": [
    "## Train the Network"
   ],
   "metadata": {}
  },
  {
   "cell_type": "code",
   "execution_count": 5,
   "source": [
    "model = Classifier()\r\n",
    "criterion = nn.NLLLoss()\r\n",
    "optimizer = optim.Adam(model.parameters(), lr=0.01)"
   ],
   "outputs": [],
   "metadata": {}
  },
  {
   "cell_type": "code",
   "execution_count": 7,
   "source": [
    "torch.cuda.is_available()"
   ],
   "outputs": [
    {
     "output_type": "execute_result",
     "data": {
      "text/plain": [
       "True"
      ]
     },
     "metadata": {},
     "execution_count": 7
    }
   ],
   "metadata": {}
  },
  {
   "cell_type": "code",
   "execution_count": 8,
   "source": [
    "device = torch.device(\"cuda\" if torch.cuda.is_available() else \"cpu\")"
   ],
   "outputs": [],
   "metadata": {}
  },
  {
   "cell_type": "code",
   "execution_count": 9,
   "source": [
    "epochs = 10\r\n",
    "\r\n",
    "for e in range(epochs):\r\n",
    "    running_loss = 0\r\n",
    "    for images, labels in trainloader:\r\n",
    "        log_ps = model(images)\r\n",
    "        loss = criterion(log_ps, labels)\r\n",
    "        \r\n",
    "        optimizer.zero_grad()\r\n",
    "        loss.backward()\r\n",
    "        optimizer.step()\r\n",
    "        \r\n",
    "        running_loss += loss.item()\r\n",
    "    else:\r\n",
    "        print(f\"Training loss: {running_loss/len(trainloader)}\")"
   ],
   "outputs": [
    {
     "output_type": "stream",
     "name": "stdout",
     "text": [
      "Training loss: 0.5786353946049839\n",
      "Training loss: 0.46357608846287485\n",
      "Training loss: 0.43611419674302976\n",
      "Training loss: 0.4254330994605001\n",
      "Training loss: 0.4231910589915603\n",
      "Training loss: 0.39987043388235544\n",
      "Training loss: 0.3922278689010057\n",
      "Training loss: 0.3816085063191111\n",
      "Training loss: 0.3754915902450649\n",
      "Training loss: 0.37042892278670503\n"
     ]
    }
   ],
   "metadata": {}
  },
  {
   "cell_type": "code",
   "execution_count": 11,
   "source": [
    "import helper\r\n",
    "\r\n",
    "# Test out your network!\r\n",
    "\r\n",
    "dataiter = iter(testloader)\r\n",
    "images, labels = dataiter.next()\r\n",
    "img = images[1]\r\n",
    "\r\n",
    "ps = torch.exp(model(img))\r\n",
    "\r\n",
    "# Plot the image and probabilities\r\n",
    "helper.view_classify(img, ps, version='Fashion')"
   ],
   "outputs": [
    {
     "output_type": "display_data",
     "data": {
      "text/plain": [
       "<Figure size 432x648 with 2 Axes>"
      ],
      "image/png": "[encoded data removed]"
     },
     "metadata": {
      "needs_background": "light"
     }
    }
   ],
   "metadata": {}
  },
  {
   "cell_type": "markdown",
   "source": [
    "# Saving and Load Models"
   ],
   "metadata": {}
  },
  {
   "cell_type": "code",
   "execution_count": 16,
   "source": [
    "torch.save(model.state_dict(), 'checkpoint.pth')"
   ],
   "outputs": [],
   "metadata": {}
  },
  {
   "cell_type": "code",
   "execution_count": 17,
   "source": [
    "state_dict = torch.load('checkpoint.pth')\r\n",
    "print(state_dict.keys())"
   ],
   "outputs": [
    {
     "output_type": "stream",
     "name": "stdout",
     "text": [
      "odict_keys(['fc1.weight', 'fc1.bias', 'fc2.weight', 'fc2.bias', 'fc3.weight', 'fc3.bias', 'fc4.weight', 'fc4.bias'])\n"
     ]
    }
   ],
   "metadata": {}
  },
  {
   "cell_type": "code",
   "execution_count": 18,
   "source": [
    "model.load_state_dict(state_dict)"
   ],
   "outputs": [
    {
     "output_type": "execute_result",
     "data": {
      "text/plain": [
       "<All keys matched successfully>"
      ]
     },
     "metadata": {},
     "execution_count": 18
    }
   ],
   "metadata": {}
  },
  {
   "cell_type": "code",
   "execution_count": 19,
   "source": [
    "model"
   ],
   "outputs": [
    {
     "output_type": "execute_result",
     "data": {
      "text/plain": [
       "Classifier(\n",
       "  (fc1): Linear(in_features=784, out_features=256, bias=True)\n",
       "  (fc2): Linear(in_features=256, out_features=128, bias=True)\n",
       "  (fc3): Linear(in_features=128, out_features=64, bias=True)\n",
       "  (fc4): Linear(in_features=64, out_features=10, bias=True)\n",
       ")"
      ]
     },
     "metadata": {},
     "execution_count": 19
    }
   ],
   "metadata": {}
  },
  {
   "cell_type": "markdown",
   "source": [
    "# Inference and Validation"
   ],
   "metadata": {}
  },
  {
   "cell_type": "code",
   "execution_count": 20,
   "source": [
    "images, labels = next(iter(testloader))\r\n",
    "# Get the class probabilities\r\n",
    "ps = torch.exp(model(images))\r\n",
    "# Make sure the shape is appropriate, we should get 10 class probabilities for 64 examples\r\n",
    "print(ps.shape)"
   ],
   "outputs": [
    {
     "output_type": "stream",
     "name": "stdout",
     "text": [
      "torch.Size([64, 10])\n"
     ]
    }
   ],
   "metadata": {}
  },
  {
   "cell_type": "code",
   "execution_count": 21,
   "source": [
    "top_p, top_class = ps.topk(1, dim=1)\r\n",
    "# Look at the most likely classes for the first 10 examples\r\n",
    "print(top_class[:10,:])"
   ],
   "outputs": [
    {
     "output_type": "stream",
     "name": "stdout",
     "text": [
      "tensor([[8],\n",
      "        [3],\n",
      "        [0],\n",
      "        [1],\n",
      "        [1],\n",
      "        [8],\n",
      "        [1],\n",
      "        [5],\n",
      "        [6],\n",
      "        [0]])\n"
     ]
    }
   ],
   "metadata": {}
  },
  {
   "cell_type": "code",
   "execution_count": 22,
   "source": [
    "model = Classifier()\r\n",
    "criterion = nn.NLLLoss(reduction='sum')\r\n",
    "optimizer = optim.Adam(model.parameters(), lr=0.003)\r\n",
    "\r\n",
    "epochs = 30\r\n",
    "\r\n",
    "train_losses, test_losses = [], []\r\n",
    "for e in range(epochs):\r\n",
    "    tot_train_loss = 0\r\n",
    "    for images, labels in trainloader:\r\n",
    "        optimizer.zero_grad()\r\n",
    "        \r\n",
    "        log_ps = model(images)\r\n",
    "        loss = criterion(log_ps, labels)\r\n",
    "        tot_train_loss += loss.item()\r\n",
    "        \r\n",
    "        loss.backward()\r\n",
    "        optimizer.step()\r\n",
    "    else:\r\n",
    "        tot_test_loss = 0\r\n",
    "        test_correct = 0  # Number of correct predictions on the test set\r\n",
    "        \r\n",
    "        # Turn off gradients for validation, saves memory and computations\r\n",
    "        with torch.no_grad():\r\n",
    "            for images, labels in testloader:\r\n",
    "                log_ps = model(images)\r\n",
    "                loss = criterion(log_ps, labels)\r\n",
    "                tot_test_loss += loss.item()\r\n",
    "\r\n",
    "                ps = torch.exp(log_ps)\r\n",
    "                top_p, top_class = ps.topk(1, dim=1)\r\n",
    "                equals = top_class == labels.view(*top_class.shape)\r\n",
    "                test_correct += equals.sum().item()\r\n",
    "\r\n",
    "        # Get mean loss to enable comparison between train and test sets\r\n",
    "        train_loss = tot_train_loss / len(trainloader.dataset)\r\n",
    "        test_loss = tot_test_loss / len(testloader.dataset)\r\n",
    "\r\n",
    "        # At completion of epoch\r\n",
    "        train_losses.append(train_loss)\r\n",
    "        test_losses.append(test_loss)\r\n",
    "\r\n",
    "        print(\"Epoch: {}/{}.. \".format(e+1, epochs),\r\n",
    "              \"Training Loss: {:.3f}.. \".format(train_loss),\r\n",
    "              \"Test Loss: {:.3f}.. \".format(test_loss),\r\n",
    "              \"Test Accuracy: {:.3f}\".format(test_correct / len(testloader.dataset)))"
   ],
   "outputs": [
    {
     "output_type": "stream",
     "name": "stdout",
     "text": [
      "Epoch: 1/30..  Training Loss: 0.511..  Test Loss: 0.434..  Test Accuracy: 0.839\n",
      "Epoch: 2/30..  Training Loss: 0.388..  Test Loss: 0.401..  Test Accuracy: 0.851\n",
      "Epoch: 3/30..  Training Loss: 0.352..  Test Loss: 0.402..  Test Accuracy: 0.851\n",
      "Epoch: 4/30..  Training Loss: 0.332..  Test Loss: 0.372..  Test Accuracy: 0.868\n",
      "Epoch: 5/30..  Training Loss: 0.315..  Test Loss: 0.388..  Test Accuracy: 0.864\n",
      "Epoch: 6/30..  Training Loss: 0.298..  Test Loss: 0.391..  Test Accuracy: 0.867\n",
      "Epoch: 7/30..  Training Loss: 0.289..  Test Loss: 0.349..  Test Accuracy: 0.874\n",
      "Epoch: 8/30..  Training Loss: 0.281..  Test Loss: 0.383..  Test Accuracy: 0.866\n",
      "Epoch: 9/30..  Training Loss: 0.273..  Test Loss: 0.374..  Test Accuracy: 0.872\n",
      "Epoch: 10/30..  Training Loss: 0.262..  Test Loss: 0.377..  Test Accuracy: 0.869\n",
      "Epoch: 11/30..  Training Loss: 0.259..  Test Loss: 0.369..  Test Accuracy: 0.874\n",
      "Epoch: 12/30..  Training Loss: 0.251..  Test Loss: 0.374..  Test Accuracy: 0.876\n",
      "Epoch: 13/30..  Training Loss: 0.246..  Test Loss: 0.349..  Test Accuracy: 0.883\n",
      "Epoch: 14/30..  Training Loss: 0.238..  Test Loss: 0.382..  Test Accuracy: 0.878\n",
      "Epoch: 15/30..  Training Loss: 0.232..  Test Loss: 0.365..  Test Accuracy: 0.884\n",
      "Epoch: 16/30..  Training Loss: 0.227..  Test Loss: 0.361..  Test Accuracy: 0.883\n",
      "Epoch: 17/30..  Training Loss: 0.222..  Test Loss: 0.366..  Test Accuracy: 0.882\n",
      "Epoch: 18/30..  Training Loss: 0.220..  Test Loss: 0.389..  Test Accuracy: 0.879\n",
      "Epoch: 19/30..  Training Loss: 0.215..  Test Loss: 0.370..  Test Accuracy: 0.887\n",
      "Epoch: 20/30..  Training Loss: 0.207..  Test Loss: 0.398..  Test Accuracy: 0.887\n",
      "Epoch: 21/30..  Training Loss: 0.210..  Test Loss: 0.399..  Test Accuracy: 0.882\n",
      "Epoch: 22/30..  Training Loss: 0.202..  Test Loss: 0.436..  Test Accuracy: 0.877\n",
      "Epoch: 23/30..  Training Loss: 0.198..  Test Loss: 0.397..  Test Accuracy: 0.878\n",
      "Epoch: 24/30..  Training Loss: 0.197..  Test Loss: 0.408..  Test Accuracy: 0.882\n",
      "Epoch: 25/30..  Training Loss: 0.193..  Test Loss: 0.401..  Test Accuracy: 0.886\n",
      "Epoch: 26/30..  Training Loss: 0.195..  Test Loss: 0.424..  Test Accuracy: 0.884\n",
      "Epoch: 27/30..  Training Loss: 0.189..  Test Loss: 0.404..  Test Accuracy: 0.885\n",
      "Epoch: 28/30..  Training Loss: 0.185..  Test Loss: 0.428..  Test Accuracy: 0.882\n",
      "Epoch: 29/30..  Training Loss: 0.179..  Test Loss: 0.420..  Test Accuracy: 0.885\n",
      "Epoch: 30/30..  Training Loss: 0.181..  Test Loss: 0.418..  Test Accuracy: 0.883\n"
     ]
    }
   ],
   "metadata": {}
  },
  {
   "cell_type": "code",
   "execution_count": 23,
   "source": [
    "import matplotlib.pyplot as plt\r\n",
    "\r\n",
    "plt.plot(train_losses, label='Training loss')\r\n",
    "plt.plot(test_losses, label='Validation loss')\r\n",
    "plt.legend(frameon=False)"
   ],
   "outputs": [
    {
     "output_type": "execute_result",
     "data": {
      "text/plain": [
       "<matplotlib.legend.Legend at 0x1e95b06f640>"
      ]
     },
     "metadata": {},
     "execution_count": 23
    },
    {
     "output_type": "display_data",
     "data": {
      "text/plain": [
       "<Figure size 432x288 with 1 Axes>"
      ],
      "image/png": "[encoded data removed]"
     },
     "metadata": {
      "needs_background": "light"
     }
    }
   ],
   "metadata": {}
  }
 ],
 "metadata": {
  "orig_nbformat": 4,
  "language_info": {
   "name": "python",
   "version": "3.8.6",
   "mimetype": "text/x-python",
   "codemirror_mode": {
    "name": "ipython",
    "version": 3
   },
   "pygments_lexer": "ipython3",
   "nbconvert_exporter": "python",
   "file_extension": ".py"
  },
  "kernelspec": {
   "name": "python3",
   "display_name": "Python 3.8.6 64-bit"
  },
  "interpreter": {
   "hash": "56eb87fbc954af64301db39dd2250c36693ef9dfda1761c1c472f812d1bbbb95"
  }
 },
 "nbformat": 4,
 "nbformat_minor": 2
}