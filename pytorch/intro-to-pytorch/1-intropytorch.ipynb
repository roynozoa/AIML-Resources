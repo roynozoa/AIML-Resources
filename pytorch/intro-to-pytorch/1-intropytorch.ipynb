{
 "cells": [
  {
   "cell_type": "code",
   "execution_count": 1,
   "source": [
    "# First, import PyTorch\r\n",
    "import torch"
   ],
   "outputs": [],
   "metadata": {}
  },
  {
   "cell_type": "code",
   "execution_count": 2,
   "source": [
    "def activation(x):\r\n",
    "    \"\"\" Sigmoid activation function \r\n",
    "    \r\n",
    "        Arguments\r\n",
    "        ---------\r\n",
    "        x: torch.Tensor\r\n",
    "    \"\"\"\r\n",
    "    return 1/(1+torch.exp(-x))"
   ],
   "outputs": [],
   "metadata": {}
  },
  {
   "cell_type": "markdown",
   "source": [
    "# Tensor in PyTorch"
   ],
   "metadata": {}
  },
  {
   "cell_type": "code",
   "execution_count": 3,
   "source": [
    "### Generate some data\r\n",
    "torch.manual_seed(7) # Set the random seed so things are predictable\r\n",
    "\r\n",
    "# Features are 5 random normal variables\r\n",
    "features = torch.randn((1, 5))\r\n",
    "# True weights for our data, random normal variables again\r\n",
    "weights = torch.randn_like(features)\r\n",
    "# and a true bias term\r\n",
    "bias = torch.randn((1, 1))"
   ],
   "outputs": [],
   "metadata": {}
  },
  {
   "cell_type": "code",
   "execution_count": 4,
   "source": [
    "# Now, make our labels from our data and true weights\r\n",
    "\r\n",
    "y = activation(torch.sum(features * weights) + bias)\r\n",
    "y = activation((features * weights).sum() + bias)"
   ],
   "outputs": [],
   "metadata": {}
  },
  {
   "cell_type": "code",
   "execution_count": 5,
   "source": [
    "y"
   ],
   "outputs": [
    {
     "output_type": "execute_result",
     "data": {
      "text/plain": [
       "tensor([[0.1595]])"
      ]
     },
     "metadata": {},
     "execution_count": 5
    }
   ],
   "metadata": {}
  },
  {
   "cell_type": "code",
   "execution_count": 6,
   "source": [
    "# using matrix multiplication\r\n",
    "y = activation(torch.mm(features, weights.view(5,1)) + bias)"
   ],
   "outputs": [],
   "metadata": {}
  },
  {
   "cell_type": "code",
   "execution_count": 7,
   "source": [
    "y"
   ],
   "outputs": [
    {
     "output_type": "execute_result",
     "data": {
      "text/plain": [
       "tensor([[0.1595]])"
      ]
     },
     "metadata": {},
     "execution_count": 7
    }
   ],
   "metadata": {}
  },
  {
   "cell_type": "code",
   "execution_count": 8,
   "source": [
    "### Generate some data\r\n",
    "torch.manual_seed(7) # Set the random seed so things are predictable\r\n",
    "\r\n",
    "# Features are 3 random normal variables\r\n",
    "features = torch.randn((1, 3))\r\n",
    "\r\n",
    "# Define the size of each layer in our network\r\n",
    "n_input = features.shape[1]     # Number of input units, must match number of input features\r\n",
    "n_hidden = 2                    # Number of hidden units \r\n",
    "n_output = 1                    # Number of output units\r\n",
    "\r\n",
    "# Weights for inputs to hidden layer\r\n",
    "W1 = torch.randn(n_input, n_hidden)\r\n",
    "# Weights for hidden layer to output layer\r\n",
    "W2 = torch.randn(n_hidden, n_output)\r\n",
    "\r\n",
    "# and bias terms for hidden and output layers\r\n",
    "B1 = torch.randn((1, n_hidden))\r\n",
    "B2 = torch.randn((1, n_output))"
   ],
   "outputs": [],
   "metadata": {}
  },
  {
   "cell_type": "code",
   "execution_count": 9,
   "source": [
    "h = activation(torch.mm(features, W1) + B1)\r\n",
    "output = activation(torch.mm(h, W2) + B2)\r\n",
    "print(output)"
   ],
   "outputs": [
    {
     "output_type": "stream",
     "name": "stdout",
     "text": [
      "tensor([[0.3171]])\n"
     ]
    }
   ],
   "metadata": {}
  },
  {
   "cell_type": "markdown",
   "source": [
    "# Neural Networks in PyTorch"
   ],
   "metadata": {}
  },
  {
   "cell_type": "code",
   "execution_count": 10,
   "source": [
    "from torchvision import datasets, transforms\r\n",
    "import matplotlib.pyplot as plt\r\n",
    "# Define a transform to normalize the data\r\n",
    "transform = transforms.Compose([transforms.ToTensor(),\r\n",
    "                              transforms.Normalize((0.5,), (0.5,)),\r\n",
    "                              ])\r\n",
    "# Download and load the training data\r\n",
    "trainset = datasets.MNIST('~/.pytorch/MNIST_data/', download=True, train=True, transform=transform)\r\n",
    "trainloader = torch.utils.data.DataLoader(trainset, batch_size=64, shuffle=True)"
   ],
   "outputs": [],
   "metadata": {}
  },
  {
   "cell_type": "code",
   "execution_count": 11,
   "source": [
    "import helper"
   ],
   "outputs": [],
   "metadata": {}
  },
  {
   "cell_type": "code",
   "execution_count": 12,
   "source": [
    "dataiter = iter(trainloader)\r\n",
    "images, labels = dataiter.next()\r\n",
    "print(type(images))\r\n",
    "print(images.shape)\r\n",
    "print(labels.shape)"
   ],
   "outputs": [
    {
     "output_type": "stream",
     "name": "stdout",
     "text": [
      "<class 'torch.Tensor'>\n",
      "torch.Size([64, 1, 28, 28])\n",
      "torch.Size([64])\n"
     ]
    }
   ],
   "metadata": {}
  },
  {
   "cell_type": "code",
   "execution_count": 13,
   "source": [
    "plt.imshow(images[1].numpy().squeeze(), cmap='Greys_r');"
   ],
   "outputs": [
    {
     "output_type": "display_data",
     "data": {
      "text/plain": [
       "<Figure size 432x288 with 1 Axes>"
      ],
      "image/png": "[encoded data removed]"
     },
     "metadata": {
      "needs_background": "light"
     }
    }
   ],
   "metadata": {}
  },
  {
   "cell_type": "code",
   "execution_count": 14,
   "source": [
    "def activation(x):\r\n",
    "    return 1/(1+torch.exp(-x))\r\n",
    "\r\n",
    "# Flatten the input images\r\n",
    "inputs = images.view(images.shape[0], -1)\r\n",
    "\r\n",
    "# Create parameters\r\n",
    "w1 = torch.randn(784, 256)\r\n",
    "b1 = torch.randn(256)\r\n",
    "\r\n",
    "w2 = torch.randn(256, 10)\r\n",
    "b2 = torch.randn(10)\r\n",
    "\r\n",
    "h = activation(torch.mm(inputs, w1) + b1)\r\n",
    "\r\n",
    "out = activation(torch.mm(h, w2) + b2)"
   ],
   "outputs": [],
   "metadata": {}
  },
  {
   "cell_type": "code",
   "execution_count": 15,
   "source": [
    "def softmax(x):\r\n",
    "    return torch.exp(x)/torch.sum(torch.exp(x), dim=1).view(-1, 1)\r\n",
    "\r\n",
    "probabilities = softmax(out)\r\n",
    "\r\n",
    "# Does it have the right shape? Should be (64, 10)\r\n",
    "print(probabilities.shape)\r\n",
    "# Does it sum to 1?\r\n",
    "print(probabilities.sum(dim=1))"
   ],
   "outputs": [
    {
     "output_type": "stream",
     "name": "stdout",
     "text": [
      "torch.Size([64, 10])\n",
      "tensor([1.0000, 1.0000, 1.0000, 1.0000, 1.0000, 1.0000, 1.0000, 1.0000, 1.0000,\n",
      "        1.0000, 1.0000, 1.0000, 1.0000, 1.0000, 1.0000, 1.0000, 1.0000, 1.0000,\n",
      "        1.0000, 1.0000, 1.0000, 1.0000, 1.0000, 1.0000, 1.0000, 1.0000, 1.0000,\n",
      "        1.0000, 1.0000, 1.0000, 1.0000, 1.0000, 1.0000, 1.0000, 1.0000, 1.0000,\n",
      "        1.0000, 1.0000, 1.0000, 1.0000, 1.0000, 1.0000, 1.0000, 1.0000, 1.0000,\n",
      "        1.0000, 1.0000, 1.0000, 1.0000, 1.0000, 1.0000, 1.0000, 1.0000, 1.0000,\n",
      "        1.0000, 1.0000, 1.0000, 1.0000, 1.0000, 1.0000, 1.0000, 1.0000, 1.0000,\n",
      "        1.0000])\n"
     ]
    }
   ],
   "metadata": {}
  },
  {
   "cell_type": "markdown",
   "source": [
    "## Building neural networks in PyTorch"
   ],
   "metadata": {}
  },
  {
   "cell_type": "code",
   "execution_count": 19,
   "source": [
    "from torch import nn\r\n",
    "import torch.nn.functional as F"
   ],
   "outputs": [],
   "metadata": {}
  },
  {
   "cell_type": "code",
   "execution_count": 20,
   "source": [
    "class Network(nn.Module):\r\n",
    "    def __init__(self):\r\n",
    "        super().__init__()\r\n",
    "        # Defining the layers, 128, 64, 10 units each\r\n",
    "        self.fc1 = nn.Linear(784, 128)\r\n",
    "        self.fc2 = nn.Linear(128, 64)\r\n",
    "        # Output layer, 10 units - one for each digit\r\n",
    "        self.fc3 = nn.Linear(64, 10)\r\n",
    "        \r\n",
    "    def forward(self, x):\r\n",
    "        ''' Forward pass through the network, returns the output logits '''\r\n",
    "        \r\n",
    "        x = self.fc1(x)\r\n",
    "        x = F.relu(x)\r\n",
    "        x = self.fc2(x)\r\n",
    "        x = F.relu(x)\r\n",
    "        x = self.fc3(x)\r\n",
    "        x = F.softmax(x, dim=1)\r\n",
    "        \r\n",
    "        return x\r\n",
    "\r\n",
    "model = Network()\r\n",
    "model"
   ],
   "outputs": [
    {
     "output_type": "execute_result",
     "data": {
      "text/plain": [
       "Network(\n",
       "  (fc1): Linear(in_features=784, out_features=128, bias=True)\n",
       "  (fc2): Linear(in_features=128, out_features=64, bias=True)\n",
       "  (fc3): Linear(in_features=64, out_features=10, bias=True)\n",
       ")"
      ]
     },
     "metadata": {},
     "execution_count": 20
    }
   ],
   "metadata": {}
  },
  {
   "cell_type": "code",
   "execution_count": 21,
   "source": [
    "# Create the network and look at its text representation\r\n",
    "model = Network()\r\n",
    "model"
   ],
   "outputs": [
    {
     "output_type": "execute_result",
     "data": {
      "text/plain": [
       "Network(\n",
       "  (fc1): Linear(in_features=784, out_features=128, bias=True)\n",
       "  (fc2): Linear(in_features=128, out_features=64, bias=True)\n",
       "  (fc3): Linear(in_features=64, out_features=10, bias=True)\n",
       ")"
      ]
     },
     "metadata": {},
     "execution_count": 21
    }
   ],
   "metadata": {}
  },
  {
   "cell_type": "code",
   "execution_count": 22,
   "source": [
    "# weights and biases\r\n",
    "print(model.fc1.weight)\r\n",
    "print(model.fc1.bias)"
   ],
   "outputs": [
    {
     "output_type": "stream",
     "name": "stdout",
     "text": [
      "Parameter containing:\n",
      "tensor([[-0.0175, -0.0130, -0.0109,  ..., -0.0229, -0.0169, -0.0241],\n",
      "        [-0.0329,  0.0220, -0.0169,  ..., -0.0056, -0.0001, -0.0216],\n",
      "        [ 0.0148, -0.0343,  0.0188,  ..., -0.0123, -0.0170,  0.0136],\n",
      "        ...,\n",
      "        [-0.0169, -0.0015, -0.0003,  ...,  0.0301, -0.0024, -0.0164],\n",
      "        [ 0.0355, -0.0039,  0.0002,  ..., -0.0246,  0.0202,  0.0261],\n",
      "        [ 0.0089, -0.0092, -0.0307,  ..., -0.0253,  0.0020,  0.0346]],\n",
      "       requires_grad=True)\n",
      "Parameter containing:\n",
      "tensor([-0.0017, -0.0049, -0.0120, -0.0029,  0.0129, -0.0212, -0.0095, -0.0272,\n",
      "         0.0167, -0.0153, -0.0331, -0.0252, -0.0264,  0.0132, -0.0282, -0.0336,\n",
      "         0.0229, -0.0353,  0.0141,  0.0355, -0.0191, -0.0251, -0.0222,  0.0175,\n",
      "        -0.0248, -0.0323,  0.0125,  0.0077,  0.0328, -0.0081, -0.0242, -0.0152,\n",
      "         0.0103, -0.0129, -0.0142, -0.0087,  0.0133, -0.0122, -0.0205,  0.0128,\n",
      "        -0.0118, -0.0239, -0.0298,  0.0182,  0.0261, -0.0310, -0.0199,  0.0118,\n",
      "         0.0146, -0.0155,  0.0077, -0.0020,  0.0151, -0.0246, -0.0023,  0.0027,\n",
      "        -0.0323,  0.0112, -0.0108, -0.0102, -0.0150, -0.0339, -0.0185, -0.0356,\n",
      "         0.0046, -0.0060,  0.0283,  0.0214, -0.0351, -0.0197, -0.0030,  0.0123,\n",
      "        -0.0060,  0.0074, -0.0194, -0.0139,  0.0279, -0.0138,  0.0064,  0.0345,\n",
      "        -0.0011, -0.0270,  0.0175,  0.0341, -0.0322, -0.0281,  0.0223,  0.0166,\n",
      "         0.0139, -0.0187,  0.0214, -0.0171,  0.0324, -0.0039,  0.0077, -0.0136,\n",
      "         0.0333,  0.0136, -0.0237, -0.0184, -0.0162, -0.0214,  0.0255,  0.0212,\n",
      "         0.0129,  0.0132, -0.0072,  0.0303, -0.0292,  0.0258, -0.0063,  0.0204,\n",
      "        -0.0026, -0.0308,  0.0087,  0.0221, -0.0121,  0.0056, -0.0276,  0.0258,\n",
      "        -0.0247, -0.0026,  0.0189, -0.0209, -0.0027,  0.0044, -0.0006,  0.0327],\n",
      "       requires_grad=True)\n"
     ]
    }
   ],
   "metadata": {}
  },
  {
   "cell_type": "markdown",
   "source": [
    "# Training Neural Networks"
   ],
   "metadata": {}
  },
  {
   "cell_type": "code",
   "execution_count": 23,
   "source": [
    "criterion = nn.CrossEntropyLoss()\r\n",
    "\r\n",
    "# Get our data\r\n",
    "images, labels = next(iter(trainloader))\r\n",
    "# Flatten images\r\n",
    "images = images.view(images.shape[0], -1)\r\n",
    "\r\n",
    "# Forward pass, get our logits\r\n",
    "logits = model(images)\r\n",
    "# Calculate the loss with the logits and the labels\r\n",
    "loss = criterion(logits, labels)\r\n",
    "\r\n",
    "print(loss)"
   ],
   "outputs": [
    {
     "output_type": "stream",
     "name": "stdout",
     "text": [
      "tensor(2.3016, grad_fn=<NllLossBackward>)\n"
     ]
    }
   ],
   "metadata": {}
  },
  {
   "cell_type": "markdown",
   "source": [
    "## Backward"
   ],
   "metadata": {}
  },
  {
   "cell_type": "code",
   "execution_count": 27,
   "source": [
    "# Build a feed-forward network\r\n",
    "model = nn.Sequential(nn.Linear(784, 128),\r\n",
    "                      nn.ReLU(),\r\n",
    "                      nn.Linear(128, 64),\r\n",
    "                      nn.ReLU(),\r\n",
    "                      nn.Linear(64, 10),\r\n",
    "                      nn.LogSoftmax(dim=1))\r\n",
    "\r\n",
    "criterion = nn.NLLLoss()\r\n",
    "images, labels = next(iter(trainloader))\r\n",
    "images = images.view(images.shape[0], -1)\r\n",
    "\r\n",
    "logps = model(images)\r\n",
    "loss = criterion(logps, labels)"
   ],
   "outputs": [],
   "metadata": {}
  },
  {
   "cell_type": "code",
   "execution_count": 28,
   "source": [
    "loss"
   ],
   "outputs": [
    {
     "output_type": "execute_result",
     "data": {
      "text/plain": [
       "tensor(2.3167, grad_fn=<NllLossBackward>)"
      ]
     },
     "metadata": {},
     "execution_count": 28
    }
   ],
   "metadata": {}
  },
  {
   "cell_type": "code",
   "execution_count": 29,
   "source": [
    "print('Before backward pass: \\n', model[0].weight.grad)\r\n",
    "\r\n",
    "loss.backward()\r\n",
    "\r\n",
    "print('After backward pass: \\n', model[0].weight.grad)"
   ],
   "outputs": [
    {
     "output_type": "stream",
     "name": "stdout",
     "text": [
      "Before backward pass: \n",
      " None\n",
      "After backward pass: \n",
      " tensor([[ 0.0000,  0.0000,  0.0000,  ...,  0.0000,  0.0000,  0.0000],\n",
      "        [ 0.0058,  0.0058,  0.0058,  ...,  0.0058,  0.0058,  0.0058],\n",
      "        [-0.0018, -0.0018, -0.0018,  ..., -0.0018, -0.0018, -0.0018],\n",
      "        ...,\n",
      "        [-0.0007, -0.0007, -0.0007,  ..., -0.0007, -0.0007, -0.0007],\n",
      "        [ 0.0017,  0.0017,  0.0017,  ...,  0.0017,  0.0017,  0.0017],\n",
      "        [ 0.0084,  0.0084,  0.0084,  ...,  0.0084,  0.0084,  0.0084]])\n"
     ]
    }
   ],
   "metadata": {}
  },
  {
   "cell_type": "code",
   "execution_count": 30,
   "source": [
    "from torch import optim\r\n",
    "\r\n",
    "# Optimizers require the parameters to optimize and a learning rate\r\n",
    "optimizer = optim.SGD(model.parameters(), lr=0.01)"
   ],
   "outputs": [],
   "metadata": {}
  },
  {
   "cell_type": "code",
   "execution_count": 31,
   "source": [
    "print('Initial weights - ', model[0].weight)\r\n",
    "\r\n",
    "images, labels = next(iter(trainloader))\r\n",
    "images.resize_(64, 784)\r\n",
    "\r\n",
    "# Clear the gradients, do this because gradients are accumulated\r\n",
    "optimizer.zero_grad()\r\n",
    "\r\n",
    "# Forward pass, then backward pass, then update weights\r\n",
    "output = model(images)\r\n",
    "loss = criterion(output, labels)\r\n",
    "loss.backward()\r\n",
    "print('Gradient -', model[0].weight.grad)"
   ],
   "outputs": [
    {
     "output_type": "stream",
     "name": "stdout",
     "text": [
      "Initial weights -  Parameter containing:\n",
      "tensor([[-0.0075, -0.0140,  0.0248,  ...,  0.0254, -0.0299,  0.0256],\n",
      "        [-0.0188, -0.0249,  0.0065,  ..., -0.0284, -0.0170, -0.0102],\n",
      "        [ 0.0033, -0.0089,  0.0341,  ..., -0.0239, -0.0265, -0.0099],\n",
      "        ...,\n",
      "        [-0.0284,  0.0292, -0.0146,  ..., -0.0259, -0.0287,  0.0313],\n",
      "        [ 0.0277, -0.0311,  0.0033,  ..., -0.0342, -0.0209,  0.0072],\n",
      "        [-0.0170,  0.0180, -0.0288,  ...,  0.0183,  0.0076, -0.0131]],\n",
      "       requires_grad=True)\n",
      "Gradient - tensor([[ 0.0000,  0.0000,  0.0000,  ...,  0.0000,  0.0000,  0.0000],\n",
      "        [ 0.0021,  0.0021,  0.0021,  ...,  0.0021,  0.0021,  0.0021],\n",
      "        [-0.0014, -0.0014, -0.0014,  ..., -0.0014, -0.0014, -0.0014],\n",
      "        ...,\n",
      "        [-0.0002, -0.0002, -0.0002,  ..., -0.0002, -0.0002, -0.0002],\n",
      "        [ 0.0009,  0.0009,  0.0009,  ...,  0.0009,  0.0009,  0.0009],\n",
      "        [ 0.0034,  0.0034,  0.0034,  ...,  0.0034,  0.0034,  0.0034]])\n"
     ]
    }
   ],
   "metadata": {}
  },
  {
   "cell_type": "code",
   "execution_count": 32,
   "source": [
    "# Take an update step and few the new weights\r\n",
    "optimizer.step()\r\n",
    "print('Updated weights - ', model[0].weight)"
   ],
   "outputs": [
    {
     "output_type": "stream",
     "name": "stdout",
     "text": [
      "Updated weights -  Parameter containing:\n",
      "tensor([[-0.0075, -0.0140,  0.0248,  ...,  0.0254, -0.0299,  0.0256],\n",
      "        [-0.0188, -0.0249,  0.0065,  ..., -0.0284, -0.0170, -0.0102],\n",
      "        [ 0.0033, -0.0089,  0.0341,  ..., -0.0239, -0.0264, -0.0099],\n",
      "        ...,\n",
      "        [-0.0284,  0.0292, -0.0146,  ..., -0.0259, -0.0287,  0.0313],\n",
      "        [ 0.0277, -0.0311,  0.0033,  ..., -0.0342, -0.0209,  0.0072],\n",
      "        [-0.0171,  0.0179, -0.0289,  ...,  0.0183,  0.0076, -0.0131]],\n",
      "       requires_grad=True)\n"
     ]
    }
   ],
   "metadata": {}
  },
  {
   "cell_type": "code",
   "execution_count": 33,
   "source": [
    "model = nn.Sequential(nn.Linear(784, 128),\r\n",
    "                      nn.ReLU(),\r\n",
    "                      nn.Linear(128, 64),\r\n",
    "                      nn.ReLU(),\r\n",
    "                      nn.Linear(64, 10),\r\n",
    "                      nn.LogSoftmax(dim=1))\r\n",
    "\r\n",
    "criterion = nn.NLLLoss()\r\n",
    "optimizer = optim.SGD(model.parameters(), lr=0.003)\r\n",
    "\r\n",
    "epochs = 5\r\n",
    "for e in range(epochs):\r\n",
    "    running_loss = 0\r\n",
    "    for images, labels in trainloader:\r\n",
    "        # Flatten MNIST images into a 784 long vector\r\n",
    "        images = images.view(images.shape[0], -1)\r\n",
    "    \r\n",
    "        # TODO: Training pass\r\n",
    "        optimizer.zero_grad()\r\n",
    "        \r\n",
    "        output = model(images)\r\n",
    "        loss = criterion(output, labels)\r\n",
    "        loss.backward()\r\n",
    "        optimizer.step()\r\n",
    "        \r\n",
    "        running_loss += loss.item()\r\n",
    "    else:\r\n",
    "        print(f\"Training loss: {running_loss/len(trainloader)}\")"
   ],
   "outputs": [
    {
     "output_type": "stream",
     "name": "stdout",
     "text": [
      "Training loss: 1.9706850933876119\n",
      "Training loss: 0.8889987017871983\n",
      "Training loss: 0.5251630273010177\n",
      "Training loss: 0.43221675113701363\n",
      "Training loss: 0.3885586821416548\n"
     ]
    }
   ],
   "metadata": {}
  },
  {
   "cell_type": "code",
   "execution_count": 34,
   "source": [
    "import helper\r\n",
    "\r\n",
    "images, labels = next(iter(trainloader))\r\n",
    "\r\n",
    "img = images[0].view(1, 784)\r\n",
    "# Turn off gradients to speed up this part\r\n",
    "with torch.no_grad():\r\n",
    "    logps = model(img)\r\n",
    "\r\n",
    "# Output of the network are log-probabilities, need to take exponential for probabilities\r\n",
    "ps = torch.exp(logps)\r\n",
    "helper.view_classify(img.view(1, 28, 28), ps)"
   ],
   "outputs": [
    {
     "output_type": "display_data",
     "data": {
      "text/plain": [
       "<Figure size 432x648 with 2 Axes>"
      ],
      "image/png": "[encoded data removed]"
     },
     "metadata": {
      "needs_background": "light"
     }
    }
   ],
   "metadata": {}
  }
 ],
 "metadata": {
  "orig_nbformat": 4,
  "language_info": {
   "name": "python",
   "version": "3.8.6",
   "mimetype": "text/x-python",
   "codemirror_mode": {
    "name": "ipython",
    "version": 3
   },
   "pygments_lexer": "ipython3",
   "nbconvert_exporter": "python",
   "file_extension": ".py"
  },
  "kernelspec": {
   "name": "python3",
   "display_name": "Python 3.8.6 64-bit"
  },
  "interpreter": {
   "hash": "56eb87fbc954af64301db39dd2250c36693ef9dfda1761c1c472f812d1bbbb95"
  }
 },
 "nbformat": 4,
 "nbformat_minor": 2
}