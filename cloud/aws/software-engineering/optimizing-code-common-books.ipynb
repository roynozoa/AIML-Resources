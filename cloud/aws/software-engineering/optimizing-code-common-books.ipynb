{
 "cells": [
  {
   "cell_type": "markdown",
   "source": [
    "# Optimizing Code: Common Books\n",
    "Here's the code your coworker wrote to find the common book ids in `books_published_last_two_years.txt` and `all_coding_books.txt` to obtain a list of recent coding books."
   ],
   "metadata": {}
  },
  {
   "cell_type": "code",
   "execution_count": 1,
   "source": [
    "import time\r\n",
    "import pandas as pd\r\n",
    "import numpy as np"
   ],
   "outputs": [],
   "metadata": {}
  },
  {
   "cell_type": "code",
   "execution_count": 2,
   "source": [
    "with open('data/books-published-last-two-years.txt') as f:\r\n",
    "    recent_books = f.read().split('\\n')\r\n",
    "    \r\n",
    "with open('data/all-coding-books.txt') as f:\r\n",
    "    coding_books = f.read().split('\\n')"
   ],
   "outputs": [],
   "metadata": {}
  },
  {
   "cell_type": "code",
   "execution_count": 3,
   "source": [
    "start = time.time()\r\n",
    "recent_coding_books = []\r\n",
    "\r\n",
    "for book in recent_books:\r\n",
    "    if book in coding_books:\r\n",
    "        recent_coding_books.append(book)\r\n",
    "\r\n",
    "print(len(recent_coding_books))\r\n",
    "print('Duration: {} seconds'.format(time.time() - start))"
   ],
   "outputs": [
    {
     "output_type": "stream",
     "name": "stdout",
     "text": [
      "96\n",
      "Duration: 16.838995695114136 seconds\n"
     ]
    }
   ],
   "metadata": {}
  },
  {
   "cell_type": "markdown",
   "source": [
    "### Tip #1: Use vector operations over loops when possible\n",
    "\n",
    "Use numpy's `intersect1d` method to get the intersection of the `recent_books` and `coding_books` arrays."
   ],
   "metadata": {}
  },
  {
   "cell_type": "code",
   "execution_count": 5,
   "source": [
    "start = time.time()\r\n",
    "recent_coding_books =  np.intersect1d(recent_books, coding_books)\r\n",
    "print(recent_coding_books)\r\n",
    "print(len(recent_coding_books))\r\n",
    "print('Duration: {} seconds'.format(time.time() - start))"
   ],
   "outputs": [
    {
     "output_type": "stream",
     "name": "stdout",
     "text": [
      "['1219701' '1258335' '1264806' '1473766' '1694425' '1713507' '1715546'\n",
      " '1900178' '1901264' '1962694' '2009541' '2038925' '2239694' '2439487'\n",
      " '2442952' '2462622' '2644909' '2645238' '2706358' '2920394' '2986045'\n",
      " '2989078' '3036263' '3066256' '3172199' '3264002' '3290103' '3349989'\n",
      " '3517640' '3783712' '4069963' '4137576' '4245126' '4281481' '4580997'\n",
      " '4623179' '4717544' '4959393' '4976621' '4993512' '5205726' '5353921'\n",
      " '5406308' '5764540' '5766722' '5890905' '5951873' '6005218' '6163266'\n",
      " '6445882' '6495493' '6522620' '6595167' '6599509' '6637024' '6889040'\n",
      " '6964516' '6975356' '6977874' '7144292' '7148530' '7170269' '7201791'\n",
      " '7231742' '7286175' '7286871' '7308127' '7356628' '7401186' '7406586'\n",
      " '7531095' '7663370' '7668560' '7689591' '7804101' '7804836' '7852176'\n",
      " '7955543' '8196889' '8255889' '8502866' '8558628' '8604850' '8621688'\n",
      " '8819824' '8873515' '8879982' '8897482' '8919160' '9180837' '9193737'\n",
      " '9255617' '9348635' '9443002' '9497646' '9624309']\n",
      "96\n",
      "Duration: 0.032006025314331055 seconds\n"
     ]
    }
   ],
   "metadata": {}
  },
  {
   "cell_type": "markdown",
   "source": [
    "### Tip #2: Know your data structures and which methods are faster\n",
    "Use the set's `intersection` method to get the common elements in `recent_books` and `coding_books`."
   ],
   "metadata": {}
  },
  {
   "cell_type": "code",
   "execution_count": 6,
   "source": [
    "start = time.time()\r\n",
    "recent_coding_books = set(recent_books).intersection(coding_books)\r\n",
    "print(len(recent_coding_books))\r\n",
    "print('Duration: {} seconds'.format(time.time() - start))"
   ],
   "outputs": [
    {
     "output_type": "stream",
     "name": "stdout",
     "text": [
      "96\n",
      "Duration: 0.00899815559387207 seconds\n"
     ]
    }
   ],
   "metadata": {}
  }
 ],
 "metadata": {
  "kernelspec": {
   "name": "python3",
   "display_name": "Python 3.8.6 64-bit"
  },
  "language_info": {
   "codemirror_mode": {
    "name": "ipython",
    "version": 3
   },
   "file_extension": ".py",
   "mimetype": "text/x-python",
   "name": "python",
   "nbconvert_exporter": "python",
   "pygments_lexer": "ipython3",
   "version": "3.8.6"
  },
  "interpreter": {
   "hash": "56eb87fbc954af64301db39dd2250c36693ef9dfda1761c1c472f812d1bbbb95"
  }
 },
 "nbformat": 4,
 "nbformat_minor": 2
}