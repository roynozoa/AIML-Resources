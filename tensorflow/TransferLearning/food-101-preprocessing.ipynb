{
 "cells": [
  {
   "cell_type": "markdown",
   "source": [
    "# Pre-processing Food 101 data"
   ],
   "metadata": {}
  },
  {
   "cell_type": "code",
   "execution_count": 1,
   "source": [
    "import os\r\n",
    "os.getcwd()"
   ],
   "outputs": [
    {
     "output_type": "execute_result",
     "data": {
      "text/plain": [
       "'d:\\\\VSCODE\\\\AIML-Resources\\\\tensorflow\\\\TransferLearning'"
      ]
     },
     "metadata": {},
     "execution_count": 1
    }
   ],
   "metadata": {}
  },
  {
   "cell_type": "code",
   "execution_count": 2,
   "source": [
    "import json"
   ],
   "outputs": [],
   "metadata": {}
  },
  {
   "cell_type": "markdown",
   "source": [
    "## Get Labels from JSON Meta"
   ],
   "metadata": {}
  },
  {
   "cell_type": "code",
   "execution_count": 3,
   "source": [
    "# Get labels\r\n",
    "def get_labels(label_path):\r\n",
    "    \"\"\"\r\n",
    "    Accepts a label path (in the form of a JSON) and returns the file\r\n",
    "    as a Python object.\r\n",
    "    \"\"\"\r\n",
    "    with open(label_path) as f:\r\n",
    "        return json.load(f)\r\n",
    "\r\n",
    "train_labels = get_labels(\"../../data/food-101/meta/train.json\")\r\n",
    "test_labels = get_labels(\"../../data/food-101/meta/test.json\")"
   ],
   "outputs": [],
   "metadata": {}
  },
  {
   "cell_type": "code",
   "execution_count": 9,
   "source": [
    "type(train_labels), type(test_labels), len(train_labels), len(test_labels)"
   ],
   "outputs": [
    {
     "output_type": "execute_result",
     "data": {
      "text/plain": [
       "(dict, dict, 101, 101)"
      ]
     },
     "metadata": {},
     "execution_count": 9
    }
   ],
   "metadata": {}
  },
  {
   "cell_type": "markdown",
   "source": [
    "## Create target class folders and move images there"
   ],
   "metadata": {}
  },
  {
   "cell_type": "code",
   "execution_count": 16,
   "source": [
    "import shutil\r\n",
    "import os\r\n",
    "\r\n",
    "def copy_images(parent_folder, new_subset, dataset, target_labels):\r\n",
    "    \"\"\"\r\n",
    "    Copies `labels[target_labels]` images from `parent_folder` to\r\n",
    "    `new_subset` (named after `dataset`) folder.\r\n",
    "    \r\n",
    "    E.g. move steak images to data/steak_subset/train/ & \r\n",
    "    data/steak_subset/test/\r\n",
    "    \r\n",
    "    Parameters\r\n",
    "    --------\r\n",
    "    parent_folder (str) - original folder path with all data\r\n",
    "    new_subset (str) - name of parent folder to copy to\r\n",
    "    dataset (str) - which dataset? (train or test)\r\n",
    "    labels (list) - list of training or test labels\r\n",
    "    target_labels (list) - list of target labels to copy e.g. [\"steak\", \"pizza\"]\r\n",
    "    \"\"\"\r\n",
    "    # Get the appropriate labels\r\n",
    "    print(f\"\\nUsing {dataset} labels...\")\r\n",
    "    labels = get_labels(\"../../data/food-101/meta/\" + dataset + \".json\")\r\n",
    "    \r\n",
    "    # Loop through target labels\r\n",
    "    for i in target_labels:\r\n",
    "        # Make target directory\r\n",
    "        os.makedirs(parent_folder + \"/\" + new_subset + \"/\" + dataset + \"/\" + i, \r\n",
    "                    exist_ok=True)\r\n",
    "        \r\n",
    "        # Go through labels and get appropriate classes\r\n",
    "        images_moved = [] # Keep track of images moved\r\n",
    "        for j in labels[i]:\r\n",
    "            # Create original image path and new path\r\n",
    "            og_path = parent_folder + \"food-101/images/\" + j + \".jpg\"\r\n",
    "            new_path = parent_folder + \"/\" + new_subset + \"/\" + dataset + \"/\" + j + \".jpg\"\r\n",
    "            \r\n",
    "            # Copy images from old path to new path\r\n",
    "            shutil.copy2(og_path, new_path)\r\n",
    "            images_moved.append(new_path)\r\n",
    "        print(f\"Copied {len(images_moved)} images from {dataset} dataset {i} class...\")"
   ],
   "outputs": [],
   "metadata": {}
  },
  {
   "cell_type": "markdown",
   "source": [
    "## Get all classes labels"
   ],
   "metadata": {}
  },
  {
   "cell_type": "code",
   "execution_count": 12,
   "source": [
    "# Get all classnames\r\n",
    "classes = []\r\n",
    "with open(\"../../data/food-101/meta/classes.txt\") as f:\r\n",
    "    for line in f.readlines():\r\n",
    "        classes.append(line.split(\"\\n\")[0]) \r\n",
    "\r\n",
    "len(classes)"
   ],
   "outputs": [
    {
     "output_type": "execute_result",
     "data": {
      "text/plain": [
       "101"
      ]
     },
     "metadata": {},
     "execution_count": 12
    }
   ],
   "metadata": {}
  },
  {
   "cell_type": "code",
   "execution_count": 13,
   "source": [
    "classes[:10]"
   ],
   "outputs": [
    {
     "output_type": "execute_result",
     "data": {
      "text/plain": [
       "['apple_pie',\n",
       " 'baby_back_ribs',\n",
       " 'baklava',\n",
       " 'beef_carpaccio',\n",
       " 'beef_tartare',\n",
       " 'beet_salad',\n",
       " 'beignets',\n",
       " 'bibimbap',\n",
       " 'bread_pudding',\n",
       " 'breakfast_burrito']"
      ]
     },
     "metadata": {},
     "execution_count": 13
    }
   ],
   "metadata": {}
  },
  {
   "cell_type": "markdown",
   "source": [
    "## Split whole dataset into train and test"
   ],
   "metadata": {}
  },
  {
   "cell_type": "code",
   "execution_count": 18,
   "source": [
    "parent_folder = \"../../data/\"\r\n",
    "new_subset = \"all_food_classes\"\r\n",
    "datasets = [\"train\", \"test\"]\r\n",
    "\r\n",
    "# Copy training/test images\r\n",
    "for i in datasets:\r\n",
    "    copy_images(parent_folder=parent_folder,\r\n",
    "                new_subset=new_subset,\r\n",
    "                dataset=i,\r\n",
    "                target_labels=classes)"
   ],
   "outputs": [
    {
     "output_type": "stream",
     "name": "stdout",
     "text": [
      "\n",
      "Using train labels...\n",
      "Copied 750 images from train dataset apple_pie class...\n",
      "Copied 750 images from train dataset baby_back_ribs class...\n",
      "Copied 750 images from train dataset baklava class...\n",
      "Copied 750 images from train dataset beef_carpaccio class...\n",
      "Copied 750 images from train dataset beef_tartare class...\n",
      "Copied 750 images from train dataset beet_salad class...\n",
      "Copied 750 images from train dataset beignets class...\n",
      "Copied 750 images from train dataset bibimbap class...\n",
      "Copied 750 images from train dataset bread_pudding class...\n",
      "Copied 750 images from train dataset breakfast_burrito class...\n",
      "Copied 750 images from train dataset bruschetta class...\n",
      "Copied 750 images from train dataset caesar_salad class...\n",
      "Copied 750 images from train dataset cannoli class...\n",
      "Copied 750 images from train dataset caprese_salad class...\n",
      "Copied 750 images from train dataset carrot_cake class...\n",
      "Copied 750 images from train dataset ceviche class...\n",
      "Copied 750 images from train dataset cheesecake class...\n",
      "Copied 750 images from train dataset cheese_plate class...\n",
      "Copied 750 images from train dataset chicken_curry class...\n",
      "Copied 750 images from train dataset chicken_quesadilla class...\n",
      "Copied 750 images from train dataset chicken_wings class...\n",
      "Copied 750 images from train dataset chocolate_cake class...\n",
      "Copied 750 images from train dataset chocolate_mousse class...\n",
      "Copied 750 images from train dataset churros class...\n",
      "Copied 750 images from train dataset clam_chowder class...\n",
      "Copied 750 images from train dataset club_sandwich class...\n",
      "Copied 750 images from train dataset crab_cakes class...\n",
      "Copied 750 images from train dataset creme_brulee class...\n",
      "Copied 750 images from train dataset croque_madame class...\n",
      "Copied 750 images from train dataset cup_cakes class...\n",
      "Copied 750 images from train dataset deviled_eggs class...\n",
      "Copied 750 images from train dataset donuts class...\n",
      "Copied 750 images from train dataset dumplings class...\n",
      "Copied 750 images from train dataset edamame class...\n",
      "Copied 750 images from train dataset eggs_benedict class...\n",
      "Copied 750 images from train dataset escargots class...\n",
      "Copied 750 images from train dataset falafel class...\n",
      "Copied 750 images from train dataset filet_mignon class...\n",
      "Copied 750 images from train dataset fish_and_chips class...\n",
      "Copied 750 images from train dataset foie_gras class...\n",
      "Copied 750 images from train dataset french_fries class...\n",
      "Copied 750 images from train dataset french_onion_soup class...\n",
      "Copied 750 images from train dataset french_toast class...\n",
      "Copied 750 images from train dataset fried_calamari class...\n",
      "Copied 750 images from train dataset fried_rice class...\n",
      "Copied 750 images from train dataset frozen_yogurt class...\n",
      "Copied 750 images from train dataset garlic_bread class...\n",
      "Copied 750 images from train dataset gnocchi class...\n",
      "Copied 750 images from train dataset greek_salad class...\n",
      "Copied 750 images from train dataset grilled_cheese_sandwich class...\n",
      "Copied 750 images from train dataset grilled_salmon class...\n",
      "Copied 750 images from train dataset guacamole class...\n",
      "Copied 750 images from train dataset gyoza class...\n",
      "Copied 750 images from train dataset hamburger class...\n",
      "Copied 750 images from train dataset hot_and_sour_soup class...\n",
      "Copied 750 images from train dataset hot_dog class...\n",
      "Copied 750 images from train dataset huevos_rancheros class...\n",
      "Copied 750 images from train dataset hummus class...\n",
      "Copied 750 images from train dataset ice_cream class...\n",
      "Copied 750 images from train dataset lasagna class...\n",
      "Copied 750 images from train dataset lobster_bisque class...\n",
      "Copied 750 images from train dataset lobster_roll_sandwich class...\n",
      "Copied 750 images from train dataset macaroni_and_cheese class...\n",
      "Copied 750 images from train dataset macarons class...\n",
      "Copied 750 images from train dataset miso_soup class...\n",
      "Copied 750 images from train dataset mussels class...\n",
      "Copied 750 images from train dataset nachos class...\n",
      "Copied 750 images from train dataset omelette class...\n",
      "Copied 750 images from train dataset onion_rings class...\n",
      "Copied 750 images from train dataset oysters class...\n",
      "Copied 750 images from train dataset pad_thai class...\n",
      "Copied 750 images from train dataset paella class...\n",
      "Copied 750 images from train dataset pancakes class...\n",
      "Copied 750 images from train dataset panna_cotta class...\n",
      "Copied 750 images from train dataset peking_duck class...\n",
      "Copied 750 images from train dataset pho class...\n",
      "Copied 750 images from train dataset pizza class...\n",
      "Copied 750 images from train dataset pork_chop class...\n",
      "Copied 750 images from train dataset poutine class...\n",
      "Copied 750 images from train dataset prime_rib class...\n",
      "Copied 750 images from train dataset pulled_pork_sandwich class...\n",
      "Copied 750 images from train dataset ramen class...\n",
      "Copied 750 images from train dataset ravioli class...\n",
      "Copied 750 images from train dataset red_velvet_cake class...\n",
      "Copied 750 images from train dataset risotto class...\n",
      "Copied 750 images from train dataset samosa class...\n",
      "Copied 750 images from train dataset sashimi class...\n",
      "Copied 750 images from train dataset scallops class...\n",
      "Copied 750 images from train dataset seaweed_salad class...\n",
      "Copied 750 images from train dataset shrimp_and_grits class...\n",
      "Copied 750 images from train dataset spaghetti_bolognese class...\n",
      "Copied 750 images from train dataset spaghetti_carbonara class...\n",
      "Copied 750 images from train dataset spring_rolls class...\n",
      "Copied 750 images from train dataset steak class...\n",
      "Copied 750 images from train dataset strawberry_shortcake class...\n",
      "Copied 750 images from train dataset sushi class...\n",
      "Copied 750 images from train dataset tacos class...\n",
      "Copied 750 images from train dataset takoyaki class...\n",
      "Copied 750 images from train dataset tiramisu class...\n",
      "Copied 750 images from train dataset tuna_tartare class...\n",
      "Copied 750 images from train dataset waffles class...\n",
      "\n",
      "Using test labels...\n",
      "Copied 250 images from test dataset apple_pie class...\n",
      "Copied 250 images from test dataset baby_back_ribs class...\n",
      "Copied 250 images from test dataset baklava class...\n",
      "Copied 250 images from test dataset beef_carpaccio class...\n",
      "Copied 250 images from test dataset beef_tartare class...\n",
      "Copied 250 images from test dataset beet_salad class...\n",
      "Copied 250 images from test dataset beignets class...\n",
      "Copied 250 images from test dataset bibimbap class...\n",
      "Copied 250 images from test dataset bread_pudding class...\n",
      "Copied 250 images from test dataset breakfast_burrito class...\n",
      "Copied 250 images from test dataset bruschetta class...\n",
      "Copied 250 images from test dataset caesar_salad class...\n",
      "Copied 250 images from test dataset cannoli class...\n",
      "Copied 250 images from test dataset caprese_salad class...\n",
      "Copied 250 images from test dataset carrot_cake class...\n",
      "Copied 250 images from test dataset ceviche class...\n",
      "Copied 250 images from test dataset cheesecake class...\n",
      "Copied 250 images from test dataset cheese_plate class...\n",
      "Copied 250 images from test dataset chicken_curry class...\n",
      "Copied 250 images from test dataset chicken_quesadilla class...\n",
      "Copied 250 images from test dataset chicken_wings class...\n",
      "Copied 250 images from test dataset chocolate_cake class...\n",
      "Copied 250 images from test dataset chocolate_mousse class...\n",
      "Copied 250 images from test dataset churros class...\n",
      "Copied 250 images from test dataset clam_chowder class...\n",
      "Copied 250 images from test dataset club_sandwich class...\n",
      "Copied 250 images from test dataset crab_cakes class...\n",
      "Copied 250 images from test dataset creme_brulee class...\n",
      "Copied 250 images from test dataset croque_madame class...\n",
      "Copied 250 images from test dataset cup_cakes class...\n",
      "Copied 250 images from test dataset deviled_eggs class...\n",
      "Copied 250 images from test dataset donuts class...\n",
      "Copied 250 images from test dataset dumplings class...\n",
      "Copied 250 images from test dataset edamame class...\n",
      "Copied 250 images from test dataset eggs_benedict class...\n",
      "Copied 250 images from test dataset escargots class...\n",
      "Copied 250 images from test dataset falafel class...\n",
      "Copied 250 images from test dataset filet_mignon class...\n",
      "Copied 250 images from test dataset fish_and_chips class...\n",
      "Copied 250 images from test dataset foie_gras class...\n",
      "Copied 250 images from test dataset french_fries class...\n",
      "Copied 250 images from test dataset french_onion_soup class...\n",
      "Copied 250 images from test dataset french_toast class...\n",
      "Copied 250 images from test dataset fried_calamari class...\n",
      "Copied 250 images from test dataset fried_rice class...\n",
      "Copied 250 images from test dataset frozen_yogurt class...\n",
      "Copied 250 images from test dataset garlic_bread class...\n",
      "Copied 250 images from test dataset gnocchi class...\n",
      "Copied 250 images from test dataset greek_salad class...\n",
      "Copied 250 images from test dataset grilled_cheese_sandwich class...\n",
      "Copied 250 images from test dataset grilled_salmon class...\n",
      "Copied 250 images from test dataset guacamole class...\n",
      "Copied 250 images from test dataset gyoza class...\n",
      "Copied 250 images from test dataset hamburger class...\n",
      "Copied 250 images from test dataset hot_and_sour_soup class...\n",
      "Copied 250 images from test dataset hot_dog class...\n",
      "Copied 250 images from test dataset huevos_rancheros class...\n",
      "Copied 250 images from test dataset hummus class...\n",
      "Copied 250 images from test dataset ice_cream class...\n",
      "Copied 250 images from test dataset lasagna class...\n",
      "Copied 250 images from test dataset lobster_bisque class...\n",
      "Copied 250 images from test dataset lobster_roll_sandwich class...\n",
      "Copied 250 images from test dataset macaroni_and_cheese class...\n",
      "Copied 250 images from test dataset macarons class...\n",
      "Copied 250 images from test dataset miso_soup class...\n",
      "Copied 250 images from test dataset mussels class...\n",
      "Copied 250 images from test dataset nachos class...\n",
      "Copied 250 images from test dataset omelette class...\n",
      "Copied 250 images from test dataset onion_rings class...\n",
      "Copied 250 images from test dataset oysters class...\n",
      "Copied 250 images from test dataset pad_thai class...\n",
      "Copied 250 images from test dataset paella class...\n",
      "Copied 250 images from test dataset pancakes class...\n",
      "Copied 250 images from test dataset panna_cotta class...\n",
      "Copied 250 images from test dataset peking_duck class...\n",
      "Copied 250 images from test dataset pho class...\n",
      "Copied 250 images from test dataset pizza class...\n",
      "Copied 250 images from test dataset pork_chop class...\n",
      "Copied 250 images from test dataset poutine class...\n",
      "Copied 250 images from test dataset prime_rib class...\n",
      "Copied 250 images from test dataset pulled_pork_sandwich class...\n",
      "Copied 250 images from test dataset ramen class...\n",
      "Copied 250 images from test dataset ravioli class...\n",
      "Copied 250 images from test dataset red_velvet_cake class...\n",
      "Copied 250 images from test dataset risotto class...\n",
      "Copied 250 images from test dataset samosa class...\n",
      "Copied 250 images from test dataset sashimi class...\n",
      "Copied 250 images from test dataset scallops class...\n",
      "Copied 250 images from test dataset seaweed_salad class...\n",
      "Copied 250 images from test dataset shrimp_and_grits class...\n",
      "Copied 250 images from test dataset spaghetti_bolognese class...\n",
      "Copied 250 images from test dataset spaghetti_carbonara class...\n",
      "Copied 250 images from test dataset spring_rolls class...\n",
      "Copied 250 images from test dataset steak class...\n",
      "Copied 250 images from test dataset strawberry_shortcake class...\n",
      "Copied 250 images from test dataset sushi class...\n",
      "Copied 250 images from test dataset tacos class...\n",
      "Copied 250 images from test dataset takoyaki class...\n",
      "Copied 250 images from test dataset tiramisu class...\n",
      "Copied 250 images from test dataset tuna_tartare class...\n",
      "Copied 250 images from test dataset waffles class...\n"
     ]
    }
   ],
   "metadata": {}
  },
  {
   "cell_type": "code",
   "execution_count": null,
   "source": [],
   "outputs": [],
   "metadata": {}
  }
 ],
 "metadata": {
  "orig_nbformat": 4,
  "language_info": {
   "name": "python",
   "version": "3.8.6",
   "mimetype": "text/x-python",
   "codemirror_mode": {
    "name": "ipython",
    "version": 3
   },
   "pygments_lexer": "ipython3",
   "nbconvert_exporter": "python",
   "file_extension": ".py"
  },
  "kernelspec": {
   "name": "python3",
   "display_name": "Python 3.8.6 64-bit"
  },
  "interpreter": {
   "hash": "56eb87fbc954af64301db39dd2250c36693ef9dfda1761c1c472f812d1bbbb95"
  }
 },
 "nbformat": 4,
 "nbformat_minor": 2
}